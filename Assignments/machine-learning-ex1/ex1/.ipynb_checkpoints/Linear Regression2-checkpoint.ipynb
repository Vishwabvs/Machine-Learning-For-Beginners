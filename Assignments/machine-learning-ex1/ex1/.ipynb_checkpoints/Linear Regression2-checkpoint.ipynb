{
 "cells": [
  {
   "cell_type": "markdown",
   "metadata": {},
   "source": [
    "#                                  UniVariable Linear Regression"
   ]
  },
  {
   "cell_type": "code",
   "execution_count": 4,
   "metadata": {},
   "outputs": [
    {
     "name": "stdout",
     "output_type": "stream",
     "text": [
      " computeCost.m        featureNormalize.m          octave-workspace\r\n",
      " computeCostMulti.m   gradientDescent.m           plotData.m\r\n",
      " ex1data1.csv         gradientDescentMulti.m      submit.m\r\n",
      " ex1data1.txt         \u001b[0m\u001b[01;34mlib\u001b[0m/                        token.mat\r\n",
      " ex1data2.txt        'Linear Regression2.ipynb'   untitled\r\n",
      " ex1.m               'Linear Regression.ipynb'    warmUpExercise.m\r\n",
      " ex1_multi.m          normalEqn.m\r\n"
     ]
    }
   ],
   "source": [
    "ls"
   ]
  },
  {
   "cell_type": "code",
   "execution_count": 5,
   "metadata": {},
   "outputs": [],
   "source": [
    "import numpy as np\n",
    "import pandas as pd\n",
    "import matplotlib.pyplot as plt"
   ]
  },
  {
   "cell_type": "code",
   "execution_count": 6,
   "metadata": {},
   "outputs": [
    {
     "data": {
      "text/plain": [
       "(97, 2)"
      ]
     },
     "execution_count": 6,
     "metadata": {},
     "output_type": "execute_result"
    }
   ],
   "source": [
    "data = pd.read_csv('ex1data1.csv')\n",
    "data.shape"
   ]
  },
  {
   "cell_type": "code",
   "execution_count": 7,
   "metadata": {},
   "outputs": [
    {
     "name": "stdout",
     "output_type": "stream",
     "text": [
      "(97, 1)\n",
      "(97, 1)\n",
      "97\n"
     ]
    }
   ],
   "source": [
    "X_init = data['Population'].values\n",
    "X_init = X_init[:,np.newaxis]\n",
    "y = data['Profit'].values\n",
    "y = y[:,np.newaxis]\n",
    "print(X_init.shape)\n",
    "print(y.shape)\n",
    "\n",
    "m = X_init.size\n",
    "print(m)"
   ]
  },
  {
   "cell_type": "code",
   "execution_count": 8,
   "metadata": {},
   "outputs": [
    {
     "data": {
      "text/plain": [
       "<matplotlib.collections.PathCollection at 0x7fb6574ef160>"
      ]
     },
     "execution_count": 8,
     "metadata": {},
     "output_type": "execute_result"
    },
    {
     "data": {
      "image/png": "[encoded data removed]",
      "text/plain": [
       "<matplotlib.figure.Figure at 0x7fb6595717f0>"
      ]
     },
     "metadata": {},
     "output_type": "display_data"
    }
   ],
   "source": [
    "plt.scatter(X_init,y,color='red')"
   ]
  },
  {
   "cell_type": "code",
   "execution_count": 9,
   "metadata": {},
   "outputs": [
    {
     "data": {
      "text/plain": [
       "(97, 2)"
      ]
     },
     "execution_count": 9,
     "metadata": {},
     "output_type": "execute_result"
    }
   ],
   "source": [
    "X = np.c_[np.ones(m),X_init]\n",
    "X.shape"
   ]
  },
  {
   "cell_type": "code",
   "execution_count": 10,
   "metadata": {},
   "outputs": [
    {
     "data": {
      "text/plain": [
       "array([[ 0.],\n",
       "       [ 0.]])"
      ]
     },
     "execution_count": 10,
     "metadata": {},
     "output_type": "execute_result"
    }
   ],
   "source": [
    "Theta = np.zeros([2,1])\n",
    "#Theta = [-1,2]\n",
    "#Theta = np.asarray(Theta)\n",
    "Theta"
   ]
  },
  {
   "cell_type": "code",
   "execution_count": 11,
   "metadata": {},
   "outputs": [
    {
     "name": "stdout",
     "output_type": "stream",
     "text": [
      "97\n"
     ]
    }
   ],
   "source": [
    "iterations = 1500\n",
    "alpha = 0.01\n",
    "print(m)"
   ]
  },
  {
   "cell_type": "code",
   "execution_count": 12,
   "metadata": {},
   "outputs": [
    {
     "data": {
      "text/plain": [
       "(97, 1)"
      ]
     },
     "execution_count": 12,
     "metadata": {},
     "output_type": "execute_result"
    }
   ],
   "source": [
    "y.shape"
   ]
  },
  {
   "cell_type": "code",
   "execution_count": 13,
   "metadata": {},
   "outputs": [
    {
     "data": {
      "text/plain": [
       "(2, 1)"
      ]
     },
     "execution_count": 13,
     "metadata": {},
     "output_type": "execute_result"
    }
   ],
   "source": [
    "Theta = [[-1],[2]]\n",
    "Theta = np.asarray(Theta)\n",
    "Theta.shape "
   ]
  },
  {
   "cell_type": "code",
   "execution_count": 14,
   "metadata": {},
   "outputs": [],
   "source": [
    "def computeCost(X,y,theta):\n",
    "    h = np.dot(X,theta);\n",
    "    #print(h.shape)\n",
    "    #print(y.shape)\n",
    "    diff = h-y;#np.subtract(h,y);\n",
    "    #print(diff.shape)\n",
    "    sqdiff = np.square(diff);\n",
    "    sum1 = np.sum(sqdiff);\n",
    "    #print(sum1)\n",
    "    J = (1/(2*m))*sum1;\n",
    "    return J;\n"
   ]
  },
  {
   "cell_type": "code",
   "execution_count": 15,
   "metadata": {},
   "outputs": [
    {
     "name": "stdout",
     "output_type": "stream",
     "text": [
      "54.242455082\n"
     ]
    }
   ],
   "source": [
    "J = computeCost(X,y,Theta);\n",
    "#J = J/m\n",
    "print(J)"
   ]
  },
  {
   "cell_type": "code",
   "execution_count": 16,
   "metadata": {},
   "outputs": [],
   "source": [
    "Theta = np.zeros([2,1])"
   ]
  },
  {
   "cell_type": "code",
   "execution_count": 17,
   "metadata": {},
   "outputs": [],
   "source": [
    "def gradientDescent(X,y,theta,alpha,iterations):\n",
    "    for i in range(1,iterations+1):\n",
    "        h = np.dot(X,theta)\n",
    "        h = h-y\n",
    "        transX = np.transpose(X)\n",
    "        prod = np.dot(transX,h)\n",
    "        prod = np.dot(alpha/m,prod)\n",
    "        theta = theta - prod\n",
    "    return theta"
   ]
  },
  {
   "cell_type": "code",
   "execution_count": 18,
   "metadata": {},
   "outputs": [
    {
     "data": {
      "text/plain": [
       "array([[-3.63029144],\n",
       "       [ 1.16636235]])"
      ]
     },
     "execution_count": 18,
     "metadata": {},
     "output_type": "execute_result"
    }
   ],
   "source": [
    "theta1 = gradientDescent(X,y,Theta,alpha,iterations)\n",
    "theta1"
   ]
  },
  {
   "cell_type": "code",
   "execution_count": 19,
   "metadata": {},
   "outputs": [
    {
     "data": {
      "text/plain": [
       "[<matplotlib.lines.Line2D at 0x7fb657453f60>]"
      ]
     },
     "execution_count": 19,
     "metadata": {},
     "output_type": "execute_result"
    },
    {
     "data": {
      "image/png": "[encoded data removed]",
      "text/plain": [
       "<matplotlib.figure.Figure at 0x7fb657453f98>"
      ]
     },
     "metadata": {},
     "output_type": "display_data"
    }
   ],
   "source": [
    "plt.scatter(X[:,1],y,color='red')\n",
    "plt.plot(X[:,1],np.dot(X,theta1),color='blue')"
   ]
  },
  {
   "cell_type": "code",
   "execution_count": 20,
   "metadata": {},
   "outputs": [],
   "source": [
    "Predict1 = [1,3.5]\n",
    "Predict2 = [1,7]\n",
    "Predict1 = np.asarray(Predict1)\n",
    "Predict2 = np.asarray(Predict2)"
   ]
  },
  {
   "cell_type": "code",
   "execution_count": 21,
   "metadata": {},
   "outputs": [
    {
     "name": "stdout",
     "output_type": "stream",
     "text": [
      "[ 4519.7678677]\n",
      "[ 45342.45012945]\n"
     ]
    }
   ],
   "source": [
    "print(np.dot(Predict1,theta1)*10000)\n",
    "print(np.dot(Predict2,theta1)*10000)"
   ]
  },
  {
   "cell_type": "markdown",
   "metadata": {},
   "source": [
    "#                                MultiVariable Linear Regression"
   ]
  },
  {
   "cell_type": "code",
   "execution_count": 53,
   "metadata": {},
   "outputs": [],
   "source": [
    "data = pd.read_csv('ex1data2.txt',header=None)"
   ]
  },
  {
   "cell_type": "code",
   "execution_count": 54,
   "metadata": {},
   "outputs": [
    {
     "data": {
      "text/html": [
       "<div>\n",
       "<style scoped>\n",
       "    .dataframe tbody tr th:only-of-type {\n",
       "        vertical-align: middle;\n",
       "    }\n",
       "\n",
       "    .dataframe tbody tr th {\n",
       "        vertical-align: top;\n",
       "    }\n",
       "\n",
       "    .dataframe thead th {\n",
       "        text-align: right;\n",
       "    }\n",
       "</style>\n",
       "<table border=\"1\" class=\"dataframe\">\n",
       "  <thead>\n",
       "    <tr style=\"text-align: right;\">\n",
       "      <th></th>\n",
       "      <th>0</th>\n",
       "      <th>1</th>\n",
       "      <th>2</th>\n",
       "    </tr>\n",
       "  </thead>\n",
       "  <tbody>\n",
       "    <tr>\n",
       "      <th>0</th>\n",
       "      <td>2104</td>\n",
       "      <td>3</td>\n",
       "      <td>399900</td>\n",
       "    </tr>\n",
       "    <tr>\n",
       "      <th>1</th>\n",
       "      <td>1600</td>\n",
       "      <td>3</td>\n",
       "      <td>329900</td>\n",
       "    </tr>\n",
       "    <tr>\n",
       "      <th>2</th>\n",
       "      <td>2400</td>\n",
       "      <td>3</td>\n",
       "      <td>369000</td>\n",
       "    </tr>\n",
       "    <tr>\n",
       "      <th>3</th>\n",
       "      <td>1416</td>\n",
       "      <td>2</td>\n",
       "      <td>232000</td>\n",
       "    </tr>\n",
       "    <tr>\n",
       "      <th>4</th>\n",
       "      <td>3000</td>\n",
       "      <td>4</td>\n",
       "      <td>539900</td>\n",
       "    </tr>\n",
       "  </tbody>\n",
       "</table>\n",
       "</div>"
      ],
      "text/plain": [
       "      0  1       2\n",
       "0  2104  3  399900\n",
       "1  1600  3  329900\n",
       "2  2400  3  369000\n",
       "3  1416  2  232000\n",
       "4  3000  4  539900"
      ]
     },
     "execution_count": 54,
     "metadata": {},
     "output_type": "execute_result"
    }
   ],
   "source": [
    "data.head()"
   ]
  },
  {
   "cell_type": "code",
   "execution_count": 95,
   "metadata": {},
   "outputs": [],
   "source": [
    "X_init = data.iloc[:,0:2].values\n",
    "X\n",
    "m=len(X_init)"
   ]
  },
  {
   "cell_type": "code",
   "execution_count": 96,
   "metadata": {},
   "outputs": [
    {
     "data": {
      "text/plain": [
       "(47, 1)"
      ]
     },
     "execution_count": 96,
     "metadata": {},
     "output_type": "execute_result"
    }
   ],
   "source": [
    "y = data.iloc[:,2].values\n",
    "y = y[:,np.newaxis]\n",
    "y.shape"
   ]
  },
  {
   "cell_type": "code",
   "execution_count": 97,
   "metadata": {},
   "outputs": [],
   "source": [
    "mean=np.mean(X_init)\n",
    "std=np.std(X_init)\n",
    "X_init=(X_init-mean)/std"
   ]
  },
  {
   "cell_type": "code",
   "execution_count": 99,
   "metadata": {
    "scrolled": true
   },
   "outputs": [
    {
     "data": {
      "text/plain": [
       "array([[  9.64150080e-01,  -8.73910212e-01],\n",
       "       [  5.23225574e-01,  -8.73910212e-01],\n",
       "       [  1.22310574e+00,  -8.73910212e-01],\n",
       "       [  3.62253135e-01,  -8.74785062e-01],\n",
       "       [  1.74801587e+00,  -8.73035361e-01],\n",
       "       [  8.60042905e-01,  -8.73035361e-01],\n",
       "       [  4.65485460e-01,  -8.73910212e-01],\n",
       "       [  3.71876488e-01,  -8.73910212e-01],\n",
       "       [  3.30758528e-01,  -8.73910212e-01],\n",
       "       [  4.30491452e-01,  -8.73910212e-01],\n",
       "       [  8.20674646e-01,  -8.73035361e-01],\n",
       "       [  8.73165658e-01,  -8.73910212e-01],\n",
       "       [  7.76932135e-01,  -8.73910212e-01],\n",
       "       [  3.04104448e+00,  -8.72160511e-01],\n",
       "       [  2.32775304e-01,  -8.73910212e-01],\n",
       "       [  1.13562072e+00,  -8.73035361e-01],\n",
       "       [  2.78267515e-01,  -8.74785062e-01],\n",
       "       [  2.04780098e-01,  -8.73910212e-01],\n",
       "       [  1.40594944e+00,  -8.73035361e-01],\n",
       "       [  1.77513622e+00,  -8.73035361e-01],\n",
       "       [  6.69325559e-01,  -8.73910212e-01],\n",
       "       [  7.75182435e-01,  -8.74785062e-01],\n",
       "       [  5.26724975e-01,  -8.73910212e-01],\n",
       "       [  8.39921350e-01,  -8.73035361e-01],\n",
       "       [  2.52663256e+00,  -8.73910212e-01],\n",
       "       [  8.58004690e-02,  -8.73910212e-01],\n",
       "       [  3.98996844e-01,  -8.73910212e-01],\n",
       "       [  1.33333687e+00,  -8.73910212e-01],\n",
       "       [  1.04813570e+00,  -8.73910212e-01],\n",
       "       [  1.43044524e+00,  -8.73910212e-01],\n",
       "       [  7.32314774e-01,  -8.74785062e-01],\n",
       "       [ -1.68455200e-03,  -8.75659912e-01],\n",
       "       [  9.08159667e-01,  -8.73035361e-01],\n",
       "       [  1.86787035e+00,  -8.73910212e-01],\n",
       "       [  7.07818968e-01,  -8.73035361e-01],\n",
       "       [  3.80624990e-01,  -8.73910212e-01],\n",
       "       [  2.07404648e-01,  -8.73910212e-01],\n",
       "       [  9.88645886e-01,  -8.73035361e-01],\n",
       "       [  2.81095887e+00,  -8.73035361e-01],\n",
       "       [  1.01489139e+00,  -8.73035361e-01],\n",
       "       [  5.79215988e-01,  -8.74785062e-01],\n",
       "       [  1.08138001e+00,  -8.73910212e-01],\n",
       "       [  1.36920573e+00,  -8.73035361e-01],\n",
       "       [  1.73285490e-01,  -8.73910212e-01],\n",
       "       [ -1.31162383e-01,  -8.74785062e-01],\n",
       "       [  7.43687827e-01,  -8.73035361e-01],\n",
       "       [  1.75910041e-01,  -8.73910212e-01]])"
      ]
     },
     "execution_count": 99,
     "metadata": {},
     "output_type": "execute_result"
    }
   ],
   "source": [
    "\n",
    "X_init"
   ]
  },
  {
   "cell_type": "code",
   "execution_count": 101,
   "metadata": {},
   "outputs": [
    {
     "data": {
      "text/plain": [
       "(47, 3)"
      ]
     },
     "execution_count": 101,
     "metadata": {},
     "output_type": "execute_result"
    }
   ],
   "source": [
    "X = np.c_[np.ones(m),X_init]\n",
    "X.shape"
   ]
  },
  {
   "cell_type": "code",
   "execution_count": 103,
   "metadata": {},
   "outputs": [],
   "source": [
    "alpha = 0.01\n",
    "iterations = 400"
   ]
  },
  {
   "cell_type": "code",
   "execution_count": 104,
   "metadata": {},
   "outputs": [],
   "source": [
    "theta = np.zeros([3,1])"
   ]
  },
  {
   "cell_type": "code",
   "execution_count": 106,
   "metadata": {},
   "outputs": [],
   "source": [
    "def computeCostMulti(X,y,theta):\n",
    "    h = np.dot(X,theta)\n",
    "    diff = h-y\n",
    "    sqdiff = np.square(diff)\n",
    "    prod = sum(sqdiff)\n",
    "    J = (1/(2*m))*prod;\n",
    "    return J\n"
   ]
  },
  {
   "cell_type": "code",
   "execution_count": 112,
   "metadata": {},
   "outputs": [],
   "source": [
    "def gradientDescentMulti(X,y,theta,alpha,iterations):\n",
    "    J_History = np.zeros([m,1])\n",
    "    for i in range(1,iterations+1):\n",
    "        h = np.dot(X,theta)\n",
    "        h = h-y\n",
    "        transX = np.transpose(X)\n",
    "        prod = np.dot(transX,h)\n",
    "        prod = np.dot(alpha/m,prod)\n",
    "        theta = theta - prod\n",
    "    return theta\n",
    "        "
   ]
  },
  {
   "cell_type": "code",
   "execution_count": 114,
   "metadata": {},
   "outputs": [
    {
     "data": {
      "text/plain": [
       "array([[ 117739.04655107],\n",
       "       [ 152298.64131393],\n",
       "       [-102872.8751995 ]])"
      ]
     },
     "execution_count": 114,
     "metadata": {},
     "output_type": "execute_result"
    }
   ],
   "source": [
    "theta = gradientDescentMulti(X,y,theta,alpha,iterations)\n",
    "theta"
   ]
  },
  {
   "cell_type": "code",
   "execution_count": null,
   "metadata": {},
   "outputs": [],
   "source": []
  }
 ],
 "metadata": {
  "kernelspec": {
   "display_name": "Python 3",
   "language": "python",
   "name": "python3"
  },
  "language_info": {
   "codemirror_mode": {
    "name": "ipython",
    "version": 3
   },
   "file_extension": ".py",
   "mimetype": "text/x-python",
   "name": "python",
   "nbconvert_exporter": "python",
   "pygments_lexer": "ipython3",
   "version": "3.6.9"
  }
 },
 "nbformat": 4,
 "nbformat_minor": 2
}
